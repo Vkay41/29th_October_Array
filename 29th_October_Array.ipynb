{
 "cells": [
  {
   "cell_type": "code",
   "execution_count": null,
   "id": "ebcf86fa-6ab5-4653-9095-7445652bbe10",
   "metadata": {},
   "outputs": [],
   "source": [
    "#Assignment Questions\n",
    "#Array"
   ]
  },
  {
   "cell_type": "code",
   "execution_count": 7,
   "id": "c4b2c765-987e-4ac4-b776-5cc3c7c5a74e",
   "metadata": {},
   "outputs": [
    {
     "name": "stdout",
     "output_type": "stream",
     "text": [
      "Output : True\n"
     ]
    }
   ],
   "source": [
    "# Given an array, check if it contains any duplicates or not. arr = [1, 2, 4, 2, 5, 9] Output = True\n",
    "\n",
    "\n",
    "def areElementsContiguous(arr, n):\n",
    "   \n",
    "    # Declaring and Initialising the set simultaneously\n",
    "    s = set(arr)\n",
    "     \n",
    "    # Finding the size of the set\n",
    "    set_size = len(s)\n",
    "    if n == set_size:\n",
    "        print(\"Output :\",False)\n",
    "    else:\n",
    "        print(\"Output :\",True)\n",
    " \n",
    "arr = [5, 2, 3, 6, 4, 4, 6, 6]\n",
    "n = len(arr)\n",
    "areElementsContiguous(arr, n)\n",
    " \n",
    "\n",
    " "
   ]
  },
  {
   "cell_type": "markdown",
   "id": "d0e1e997-afad-4e46-b0d4-98c4a33e99c2",
   "metadata": {},
   "source": [
    "1)Firstly define a function which create a variable Initialising it as a  set and Store the elements in unordered set.\n",
    "\n",
    "2) Find the length of the set and store it in a varible set_size.\n",
    "\n",
    "3) Now check wether the lenth off the array n is equal to set_size or not if yes return False else return true. \n",
    "\n",
    "4) Now in the driver code Declaring and Initialising the array should be done and the lengthof the array should be stored in a variable n and call the function .\n",
    "\n",
    "5) If the length of the array is equal to the size of the set then in that case we can say that the given array doesn't contains contiguous elements and if it is false it means the array contain contiguous elements.\n",
    "\n",
    "Time Complexity: O(n)\n",
    "\n",
    "Auxiliary Space: O(n)"
   ]
  },
  {
   "cell_type": "code",
   "execution_count": 11,
   "id": "2a29c6b6-fbfc-4182-b83d-b449e0c141df",
   "metadata": {},
   "outputs": [
    {
     "name": "stdout",
     "output_type": "stream",
     "text": [
      "Output :\n",
      "5 6 7 1 2 3 4 \n",
      "\n"
     ]
    }
   ],
   "source": [
    "# Given an array and an integer k, rotate the array to the right by k steps. arr = [1, 2, 3, 4, 5, 6, 7] k = 3 & Output = [5, 6, 7, 1, 2, 3, 4]\n",
    "\n",
    "\n",
    "def RightRotate(a, n, k):\n",
    "    k = k % n\n",
    " \n",
    "    for i in range(0, n):\n",
    " \n",
    "        if(i < k):\n",
    "            print(a[n + i - k], end = \" \");\n",
    " \n",
    "        else:\n",
    "            print(a[i - k], end = \" \");\n",
    " \n",
    "    print(\"\\n\");\n",
    " \n",
    "a =  [1, 2, 3, 4, 5, 6, 7] \n",
    "n = len(a)\n",
    "k = 3\n",
    "print(\"Output :\")\n",
    "RightRotate(a, n, k)"
   ]
  },
  {
   "cell_type": "markdown",
   "id": "dc3c65b8-08f4-49d2-823c-cec12a985e4c",
   "metadata": {},
   "source": [
    "1. We will first take mod of K by N (K = K % N) because after every N rotation array will become the same as the initial array.\n",
    "\n",
    "2. Now, we will iterate the array from i = 0 to i = N-1 and check. \n",
    "\n",
    "3.  If i < K, Print rightmost Kth element (a[N + i -K]). Otherwise, Print array after ‘K’ elements (a[i – K])\n",
    "\n",
    "Time complexity : O(n) \n",
    "\n",
    "Auxiliary Space : O(1)"
   ]
  },
  {
   "cell_type": "code",
   "execution_count": 12,
   "id": "6c2f2f83-0bb3-40b7-aea1-6921849e2c2d",
   "metadata": {},
   "outputs": [
    {
     "name": "stdout",
     "output_type": "stream",
     "text": [
      "Output : [12, 9, 7, 5, 4, 2]\n"
     ]
    }
   ],
   "source": [
    "# Reverse the given array in-place, means without using any extra data structure. arr = [2, 4, 5, 7, 9, 12] & Output = [12, 9, 7, 5, 4, 2]\n",
    "\n",
    "\n",
    "def reversed_array(arr):\n",
    "    reversedarr=arr[::-1]\n",
    "    print(\"Output :\",reversedarr)\n",
    "\n",
    "arr = [2, 4, 5, 7, 9, 12] \n",
    "reversed_array(arr)"
   ]
  },
  {
   "cell_type": "markdown",
   "id": "61da068a-6eae-4553-8f29-05bbfac1c86a",
   "metadata": {},
   "source": [
    "1.The simplest way to reverse an array in Python is by using the built-in reverse() method.\n",
    "\n",
    "2.This method modifies the original array in place, reversing the order of its elements.\n",
    "\n",
    "3.In we intialize the array and call the function reversed_array.\n",
    "\n",
    "4.After that we take a variable and store the reverse array value by using reverse function and return the value\n",
    "\n",
    "Time complexity : O(1) \n",
    "\n",
    "Auxiliary Space : O(1)"
   ]
  },
  {
   "cell_type": "code",
   "execution_count": 4,
   "id": "c19aaca7-adcb-42cd-88cd-dc5e7af403f2",
   "metadata": {},
   "outputs": [
    {
     "name": "stdout",
     "output_type": "stream",
     "text": [
      "Output : \n"
     ]
    },
    {
     "data": {
      "text/plain": [
       "20"
      ]
     },
     "execution_count": 4,
     "metadata": {},
     "output_type": "execute_result"
    }
   ],
   "source": [
    "# Given an array of integers, find the maximum element in an array. arr = [10, 5, 20, 8, 15] & Output = 20\n",
    "\n",
    "\n",
    "def largest(arr,n):\n",
    "    mx=arr[0]\n",
    "    for i in range(1, n):\n",
    "        if arr[i] > mx:\n",
    "            mx = arr[i]\n",
    " \n",
    "    return mx\n",
    "\n",
    "\n",
    "\n",
    "arr = [10, 5, 20, 8, 15]\n",
    "n=len(arr)\n",
    "print(\"Output : \")\n",
    "largest(arr,n)"
   ]
  },
  {
   "cell_type": "markdown",
   "id": "d7d90f5f-667d-44b2-97f0-893477a57306",
   "metadata": {},
   "source": [
    "Step 1 : Create a local variable max and initiate it to arr[0] to store the maximum among the list\n",
    "\n",
    "Step 2 : Iterate over the array and Compare arr[i] with max.\n",
    "If arr[i] > max, update max = arr[i].Then Increment i once.\n",
    "\n",
    "Step 3 :After the iteration is over, return max as the required answer\n",
    "\n",
    "Time complexity: O(N), to traverse the Array completely.\n",
    "Space complexity: O(1), as only an extra variable is created, which will take O(1) space.\n"
   ]
  },
  {
   "cell_type": "code",
   "execution_count": 13,
   "id": "92b8dfd1-bc82-4aab-8855-3fb983294e73",
   "metadata": {},
   "outputs": [
    {
     "name": "stdout",
     "output_type": "stream",
     "text": [
      "Output : [2, 4, 5, 7, 9, 12]\n"
     ]
    }
   ],
   "source": [
    " \"\"\"Given a sorted array, remove the duplicate element without using any extra data structure. arr =[1, 1, 2, 2, 2, 3, 3, 4, 4, 4, 5, 5] \n",
    " & Output=[1, 2, 3, 4, 5]\"\"\"\n",
    "\n",
    "\n",
    "def removedup(arr):\n",
    "    for i in range(len(arr)):\n",
    "        for j in range(len(arr) - 1, i, -1):\n",
    "            if arr[i] == arr[j]:\n",
    "                arr.pop(j)\n",
    "print(\"Output :\",arr)\n",
    "arr= [1, 1, 2, 2, 2, 3, 3, 4, 4, 4, 5, 5] \n",
    "removedup(arr)"
   ]
  },
  {
   "cell_type": "markdown",
   "id": "97705fba-d7c9-41d7-9366-118b677d9bdb",
   "metadata": {},
   "source": [
    "1.The outer loop with variable i is used to iterate over the list. The nested loop with variable j is used to check if the item is present in the\n",
    "slice after the index i. Every such index is discarded.\n",
    "\n",
    "2.Note that we are iterating backwards in the nested loop to avoid index out-of-range situations.\n",
    "\n",
    "3.This implementation will not alter the order of the elements and doesn't use any extra space.\n",
    "\n",
    "Time Complexity: O(n^2)\n",
    "Space Complexity: O(1)"
   ]
  }
 ],
 "metadata": {
  "kernelspec": {
   "display_name": "Python 3 (ipykernel)",
   "language": "python",
   "name": "python3"
  },
  "language_info": {
   "codemirror_mode": {
    "name": "ipython",
    "version": 3
   },
   "file_extension": ".py",
   "mimetype": "text/x-python",
   "name": "python",
   "nbconvert_exporter": "python",
   "pygments_lexer": "ipython3",
   "version": "3.10.8"
  }
 },
 "nbformat": 4,
 "nbformat_minor": 5
}
